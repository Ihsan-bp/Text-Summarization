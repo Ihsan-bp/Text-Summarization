{
 "cells": [
  {
   "cell_type": "code",
   "execution_count": 3,
   "id": "2842d8b9",
   "metadata": {
    "collapsed": true
   },
   "outputs": [
    {
     "name": "stdout",
     "output_type": "stream",
     "text": [
      "Requirement already satisfied: tensorflow in c:\\users\\ihsan b p\\anaconda3\\lib\\site-packages (2.12.0)\n",
      "Requirement already satisfied: tensorflow-intel==2.12.0 in c:\\users\\ihsan b p\\anaconda3\\lib\\site-packages (from tensorflow) (2.12.0)\n",
      "Requirement already satisfied: tensorflow-io-gcs-filesystem>=0.23.1 in c:\\users\\ihsan b p\\anaconda3\\lib\\site-packages (from tensorflow-intel==2.12.0->tensorflow) (0.31.0)\n",
      "Requirement already satisfied: jax>=0.3.15 in c:\\users\\ihsan b p\\anaconda3\\lib\\site-packages (from tensorflow-intel==2.12.0->tensorflow) (0.4.8)\n",
      "Requirement already satisfied: numpy<1.24,>=1.22 in c:\\users\\ihsan b p\\anaconda3\\lib\\site-packages (from tensorflow-intel==2.12.0->tensorflow) (1.22.4)\n",
      "Requirement already satisfied: setuptools in c:\\users\\ihsan b p\\anaconda3\\lib\\site-packages (from tensorflow-intel==2.12.0->tensorflow) (59.5.0)\n",
      "Requirement already satisfied: flatbuffers>=2.0 in c:\\users\\ihsan b p\\anaconda3\\lib\\site-packages (from tensorflow-intel==2.12.0->tensorflow) (23.3.3)\n",
      "Requirement already satisfied: tensorflow-estimator<2.13,>=2.12.0 in c:\\users\\ihsan b p\\anaconda3\\lib\\site-packages (from tensorflow-intel==2.12.0->tensorflow) (2.12.0)\n",
      "Requirement already satisfied: protobuf!=4.21.0,!=4.21.1,!=4.21.2,!=4.21.3,!=4.21.4,!=4.21.5,<5.0.0dev,>=3.20.3 in c:\\users\\ihsan b p\\anaconda3\\lib\\site-packages (from tensorflow-intel==2.12.0->tensorflow) (4.22.1)\n",
      "Requirement already satisfied: h5py>=2.9.0 in c:\\users\\ihsan b p\\anaconda3\\lib\\site-packages (from tensorflow-intel==2.12.0->tensorflow) (3.6.0)\n",
      "Requirement already satisfied: tensorboard<2.13,>=2.12 in c:\\users\\ihsan b p\\anaconda3\\lib\\site-packages (from tensorflow-intel==2.12.0->tensorflow) (2.12.1)\n",
      "Requirement already satisfied: astunparse>=1.6.0 in c:\\users\\ihsan b p\\anaconda3\\lib\\site-packages (from tensorflow-intel==2.12.0->tensorflow) (1.6.3)\n",
      "Requirement already satisfied: wrapt<1.15,>=1.11.0 in c:\\users\\ihsan b p\\anaconda3\\lib\\site-packages (from tensorflow-intel==2.12.0->tensorflow) (1.12.1)\n",
      "Requirement already satisfied: six>=1.12.0 in c:\\users\\ihsan b p\\anaconda3\\lib\\site-packages (from tensorflow-intel==2.12.0->tensorflow) (1.16.0)\n",
      "Requirement already satisfied: keras<2.13,>=2.12.0 in c:\\users\\ihsan b p\\anaconda3\\lib\\site-packages (from tensorflow-intel==2.12.0->tensorflow) (2.12.0)\n",
      "Requirement already satisfied: grpcio<2.0,>=1.24.3 in c:\\users\\ihsan b p\\anaconda3\\lib\\site-packages (from tensorflow-intel==2.12.0->tensorflow) (1.53.0)\n",
      "Requirement already satisfied: packaging in c:\\users\\ihsan b p\\anaconda3\\lib\\site-packages (from tensorflow-intel==2.12.0->tensorflow) (21.3)\n",
      "Requirement already satisfied: libclang>=13.0.0 in c:\\users\\ihsan b p\\anaconda3\\lib\\site-packages (from tensorflow-intel==2.12.0->tensorflow) (16.0.0)\n",
      "Requirement already satisfied: google-pasta>=0.1.1 in c:\\users\\ihsan b p\\anaconda3\\lib\\site-packages (from tensorflow-intel==2.12.0->tensorflow) (0.2.0)\n"
     ]
    },
    {
     "name": "stderr",
     "output_type": "stream",
     "text": [
      "WARNING: Ignoring invalid distribution -etuptools (c:\\users\\ihsan b p\\anaconda3\\lib\\site-packages)\n",
      "WARNING: Ignoring invalid distribution -etuptools (c:\\users\\ihsan b p\\anaconda3\\lib\\site-packages)\n",
      "WARNING: Ignoring invalid distribution -etuptools (c:\\users\\ihsan b p\\anaconda3\\lib\\site-packages)\n",
      "WARNING: Ignoring invalid distribution -etuptools (c:\\users\\ihsan b p\\anaconda3\\lib\\site-packages)\n",
      "WARNING: Ignoring invalid distribution -etuptools (c:\\users\\ihsan b p\\anaconda3\\lib\\site-packages)\n",
      "WARNING: Ignoring invalid distribution -etuptools (c:\\users\\ihsan b p\\anaconda3\\lib\\site-packages)\n",
      "\n",
      "[notice] A new release of pip is available: 23.0.1 -> 23.1.2\n",
      "[notice] To update, run: python.exe -m pip install --upgrade pip\n"
     ]
    },
    {
     "name": "stdout",
     "output_type": "stream",
     "text": [
      "Requirement already satisfied: opt-einsum>=2.3.2 in c:\\users\\ihsan b p\\anaconda3\\lib\\site-packages (from tensorflow-intel==2.12.0->tensorflow) (3.3.0)\n",
      "Requirement already satisfied: gast<=0.4.0,>=0.2.1 in c:\\users\\ihsan b p\\anaconda3\\lib\\site-packages (from tensorflow-intel==2.12.0->tensorflow) (0.4.0)\n",
      "Requirement already satisfied: absl-py>=1.0.0 in c:\\users\\ihsan b p\\anaconda3\\lib\\site-packages (from tensorflow-intel==2.12.0->tensorflow) (1.4.0)\n",
      "Requirement already satisfied: typing-extensions>=3.6.6 in c:\\users\\ihsan b p\\anaconda3\\lib\\site-packages (from tensorflow-intel==2.12.0->tensorflow) (4.6.3)\n",
      "Requirement already satisfied: termcolor>=1.1.0 in c:\\users\\ihsan b p\\anaconda3\\lib\\site-packages (from tensorflow-intel==2.12.0->tensorflow) (2.2.0)\n",
      "Requirement already satisfied: wheel<1.0,>=0.23.0 in c:\\users\\ihsan b p\\anaconda3\\lib\\site-packages (from astunparse>=1.6.0->tensorflow-intel==2.12.0->tensorflow) (0.37.1)\n",
      "Requirement already satisfied: scipy>=1.7 in c:\\users\\ihsan b p\\anaconda3\\lib\\site-packages (from jax>=0.3.15->tensorflow-intel==2.12.0->tensorflow) (1.7.3)\n",
      "Requirement already satisfied: ml-dtypes>=0.0.3 in c:\\users\\ihsan b p\\anaconda3\\lib\\site-packages (from jax>=0.3.15->tensorflow-intel==2.12.0->tensorflow) (0.0.4)\n",
      "Requirement already satisfied: requests<3,>=2.21.0 in c:\\users\\ihsan b p\\anaconda3\\lib\\site-packages (from tensorboard<2.13,>=2.12->tensorflow-intel==2.12.0->tensorflow) (2.27.1)\n",
      "Requirement already satisfied: google-auth-oauthlib<1.1,>=0.5 in c:\\users\\ihsan b p\\anaconda3\\lib\\site-packages (from tensorboard<2.13,>=2.12->tensorflow-intel==2.12.0->tensorflow) (1.0.0)\n",
      "Requirement already satisfied: markdown>=2.6.8 in c:\\users\\ihsan b p\\anaconda3\\lib\\site-packages (from tensorboard<2.13,>=2.12->tensorflow-intel==2.12.0->tensorflow) (3.3.4)\n",
      "Requirement already satisfied: werkzeug>=1.0.1 in c:\\users\\ihsan b p\\anaconda3\\lib\\site-packages (from tensorboard<2.13,>=2.12->tensorflow-intel==2.12.0->tensorflow) (2.0.3)\n",
      "Requirement already satisfied: tensorboard-data-server<0.8.0,>=0.7.0 in c:\\users\\ihsan b p\\anaconda3\\lib\\site-packages (from tensorboard<2.13,>=2.12->tensorflow-intel==2.12.0->tensorflow) (0.7.0)\n",
      "Requirement already satisfied: tensorboard-plugin-wit>=1.6.0 in c:\\users\\ihsan b p\\anaconda3\\lib\\site-packages (from tensorboard<2.13,>=2.12->tensorflow-intel==2.12.0->tensorflow) (1.8.1)\n",
      "Requirement already satisfied: google-auth<3,>=1.6.3 in c:\\users\\ihsan b p\\anaconda3\\lib\\site-packages (from tensorboard<2.13,>=2.12->tensorflow-intel==2.12.0->tensorflow) (2.17.1)\n",
      "Requirement already satisfied: pyparsing!=3.0.5,>=2.0.2 in c:\\users\\ihsan b p\\anaconda3\\lib\\site-packages (from packaging->tensorflow-intel==2.12.0->tensorflow) (3.0.4)\n",
      "Requirement already satisfied: pyasn1-modules>=0.2.1 in c:\\users\\ihsan b p\\anaconda3\\lib\\site-packages (from google-auth<3,>=1.6.3->tensorboard<2.13,>=2.12->tensorflow-intel==2.12.0->tensorflow) (0.2.8)\n",
      "Requirement already satisfied: rsa<5,>=3.1.4 in c:\\users\\ihsan b p\\anaconda3\\lib\\site-packages (from google-auth<3,>=1.6.3->tensorboard<2.13,>=2.12->tensorflow-intel==2.12.0->tensorflow) (4.7.2)\n",
      "Requirement already satisfied: cachetools<6.0,>=2.0.0 in c:\\users\\ihsan b p\\anaconda3\\lib\\site-packages (from google-auth<3,>=1.6.3->tensorboard<2.13,>=2.12->tensorflow-intel==2.12.0->tensorflow) (4.2.2)\n",
      "Requirement already satisfied: requests-oauthlib>=0.7.0 in c:\\users\\ihsan b p\\anaconda3\\lib\\site-packages (from google-auth-oauthlib<1.1,>=0.5->tensorboard<2.13,>=2.12->tensorflow-intel==2.12.0->tensorflow) (1.3.1)\n",
      "Requirement already satisfied: charset-normalizer~=2.0.0 in c:\\users\\ihsan b p\\anaconda3\\lib\\site-packages (from requests<3,>=2.21.0->tensorboard<2.13,>=2.12->tensorflow-intel==2.12.0->tensorflow) (2.0.4)\n",
      "Requirement already satisfied: idna<4,>=2.5 in c:\\users\\ihsan b p\\anaconda3\\lib\\site-packages (from requests<3,>=2.21.0->tensorboard<2.13,>=2.12->tensorflow-intel==2.12.0->tensorflow) (3.3)\n",
      "Requirement already satisfied: certifi>=2017.4.17 in c:\\users\\ihsan b p\\anaconda3\\lib\\site-packages (from requests<3,>=2.21.0->tensorboard<2.13,>=2.12->tensorflow-intel==2.12.0->tensorflow) (2021.10.8)\n",
      "Requirement already satisfied: urllib3<1.27,>=1.21.1 in c:\\users\\ihsan b p\\anaconda3\\lib\\site-packages (from requests<3,>=2.21.0->tensorboard<2.13,>=2.12->tensorflow-intel==2.12.0->tensorflow) (1.26.9)\n",
      "Requirement already satisfied: pyasn1<0.5.0,>=0.4.6 in c:\\users\\ihsan b p\\anaconda3\\lib\\site-packages (from pyasn1-modules>=0.2.1->google-auth<3,>=1.6.3->tensorboard<2.13,>=2.12->tensorflow-intel==2.12.0->tensorflow) (0.4.8)\n",
      "Requirement already satisfied: oauthlib>=3.0.0 in c:\\users\\ihsan b p\\anaconda3\\lib\\site-packages (from requests-oauthlib>=0.7.0->google-auth-oauthlib<1.1,>=0.5->tensorboard<2.13,>=2.12->tensorflow-intel==2.12.0->tensorflow) (3.2.2)\n",
      "Requirement already satisfied: tensorflow-io in c:\\users\\ihsan b p\\anaconda3\\lib\\site-packages (0.31.0)"
     ]
    },
    {
     "name": "stderr",
     "output_type": "stream",
     "text": [
      "WARNING: Ignoring invalid distribution -etuptools (c:\\users\\ihsan b p\\anaconda3\\lib\\site-packages)\n",
      "WARNING: Ignoring invalid distribution -etuptools (c:\\users\\ihsan b p\\anaconda3\\lib\\site-packages)\n",
      "WARNING: Ignoring invalid distribution -etuptools (c:\\users\\ihsan b p\\anaconda3\\lib\\site-packages)\n",
      "WARNING: Ignoring invalid distribution -etuptools (c:\\users\\ihsan b p\\anaconda3\\lib\\site-packages)\n",
      "WARNING: Ignoring invalid distribution -etuptools (c:\\users\\ihsan b p\\anaconda3\\lib\\site-packages)\n",
      "WARNING: Ignoring invalid distribution -etuptools (c:\\users\\ihsan b p\\anaconda3\\lib\\site-packages)\n",
      "\n",
      "[notice] A new release of pip is available: 23.0.1 -> 23.1.2\n",
      "[notice] To update, run: python.exe -m pip install --upgrade pip\n"
     ]
    },
    {
     "name": "stdout",
     "output_type": "stream",
     "text": [
      "\n",
      "Requirement already satisfied: tensorflow-io-gcs-filesystem==0.31.0 in c:\\users\\ihsan b p\\anaconda3\\lib\\site-packages (from tensorflow-io) (0.31.0)\n"
     ]
    }
   ],
   "source": [
    "!pip install --upgrade tensorflow\n",
    "!pip install --upgrade tensorflow-io"
   ]
  },
  {
   "cell_type": "code",
   "execution_count": 4,
   "id": "c8a7c6ed",
   "metadata": {},
   "outputs": [],
   "source": [
    "import numpy as np # linear algebra\n",
    "import pandas as pd\n",
    "import spacy\n",
    "import re"
   ]
  },
  {
   "cell_type": "code",
   "execution_count": 31,
   "id": "c9b234dd",
   "metadata": {},
   "outputs": [],
   "source": [
    "data=pd.read_csv(r\"C:\\Users\\IHSAN B P\\Desktop\\t5 nlp txt summerization\\cnn_dailymail\\train.csv\")\n",
    "test=pd.read_csv(r\"C:\\Users\\IHSAN B P\\Desktop\\t5 nlp txt summerization\\cnn_dailymail\\test.csv\")\n",
    "validation=pd.read_csv(r\"C:\\Users\\IHSAN B P\\Desktop\\t5 nlp txt summerization\\cnn_dailymail\\validation.csv\")"
   ]
  },
  {
   "cell_type": "code",
   "execution_count": 7,
   "id": "2f215c13",
   "metadata": {},
   "outputs": [
    {
     "data": {
      "text/html": [
       "<div>\n",
       "<style scoped>\n",
       "    .dataframe tbody tr th:only-of-type {\n",
       "        vertical-align: middle;\n",
       "    }\n",
       "\n",
       "    .dataframe tbody tr th {\n",
       "        vertical-align: top;\n",
       "    }\n",
       "\n",
       "    .dataframe thead th {\n",
       "        text-align: right;\n",
       "    }\n",
       "</style>\n",
       "<table border=\"1\" class=\"dataframe\">\n",
       "  <thead>\n",
       "    <tr style=\"text-align: right;\">\n",
       "      <th></th>\n",
       "      <th>id</th>\n",
       "      <th>article</th>\n",
       "      <th>highlights</th>\n",
       "    </tr>\n",
       "  </thead>\n",
       "  <tbody>\n",
       "    <tr>\n",
       "      <th>0</th>\n",
       "      <td>0001d1afc246a7964130f43ae940af6bc6c57f01</td>\n",
       "      <td>By . Associated Press . PUBLISHED: . 14:11 EST...</td>\n",
       "      <td>Bishop John Folda, of North Dakota, is taking ...</td>\n",
       "    </tr>\n",
       "    <tr>\n",
       "      <th>1</th>\n",
       "      <td>0002095e55fcbd3a2f366d9bf92a95433dc305ef</td>\n",
       "      <td>(CNN) -- Ralph Mata was an internal affairs li...</td>\n",
       "      <td>Criminal complaint: Cop used his role to help ...</td>\n",
       "    </tr>\n",
       "    <tr>\n",
       "      <th>2</th>\n",
       "      <td>00027e965c8264c35cc1bc55556db388da82b07f</td>\n",
       "      <td>A drunk driver who killed a young woman in a h...</td>\n",
       "      <td>Craig Eccleston-Todd, 27, had drunk at least t...</td>\n",
       "    </tr>\n",
       "    <tr>\n",
       "      <th>3</th>\n",
       "      <td>0002c17436637c4fe1837c935c04de47adb18e9a</td>\n",
       "      <td>(CNN) -- With a breezy sweep of his pen Presid...</td>\n",
       "      <td>Nina dos Santos says Europe must be ready to a...</td>\n",
       "    </tr>\n",
       "    <tr>\n",
       "      <th>4</th>\n",
       "      <td>0003ad6ef0c37534f80b55b4235108024b407f0b</td>\n",
       "      <td>Fleetwood are the only team still to have a 10...</td>\n",
       "      <td>Fleetwood top of League One after 2-0 win at S...</td>\n",
       "    </tr>\n",
       "  </tbody>\n",
       "</table>\n",
       "</div>"
      ],
      "text/plain": [
       "                                         id  \\\n",
       "0  0001d1afc246a7964130f43ae940af6bc6c57f01   \n",
       "1  0002095e55fcbd3a2f366d9bf92a95433dc305ef   \n",
       "2  00027e965c8264c35cc1bc55556db388da82b07f   \n",
       "3  0002c17436637c4fe1837c935c04de47adb18e9a   \n",
       "4  0003ad6ef0c37534f80b55b4235108024b407f0b   \n",
       "\n",
       "                                             article  \\\n",
       "0  By . Associated Press . PUBLISHED: . 14:11 EST...   \n",
       "1  (CNN) -- Ralph Mata was an internal affairs li...   \n",
       "2  A drunk driver who killed a young woman in a h...   \n",
       "3  (CNN) -- With a breezy sweep of his pen Presid...   \n",
       "4  Fleetwood are the only team still to have a 10...   \n",
       "\n",
       "                                          highlights  \n",
       "0  Bishop John Folda, of North Dakota, is taking ...  \n",
       "1  Criminal complaint: Cop used his role to help ...  \n",
       "2  Craig Eccleston-Todd, 27, had drunk at least t...  \n",
       "3  Nina dos Santos says Europe must be ready to a...  \n",
       "4  Fleetwood top of League One after 2-0 win at S...  "
      ]
     },
     "execution_count": 7,
     "metadata": {},
     "output_type": "execute_result"
    }
   ],
   "source": [
    "data.head()"
   ]
  },
  {
   "cell_type": "code",
   "execution_count": 32,
   "id": "92c5ceec",
   "metadata": {},
   "outputs": [
    {
     "data": {
      "text/html": [
       "<div>\n",
       "<style scoped>\n",
       "    .dataframe tbody tr th:only-of-type {\n",
       "        vertical-align: middle;\n",
       "    }\n",
       "\n",
       "    .dataframe tbody tr th {\n",
       "        vertical-align: top;\n",
       "    }\n",
       "\n",
       "    .dataframe thead th {\n",
       "        text-align: right;\n",
       "    }\n",
       "</style>\n",
       "<table border=\"1\" class=\"dataframe\">\n",
       "  <thead>\n",
       "    <tr style=\"text-align: right;\">\n",
       "      <th></th>\n",
       "      <th>id</th>\n",
       "      <th>article</th>\n",
       "      <th>highlights</th>\n",
       "    </tr>\n",
       "  </thead>\n",
       "  <tbody>\n",
       "    <tr>\n",
       "      <th>0</th>\n",
       "      <td>61df4979ac5fcc2b71be46ed6fe5a46ce7f071c3</td>\n",
       "      <td>Sally Forrest, an actress-dancer who graced th...</td>\n",
       "      <td>Sally Forrest, an actress-dancer who graced th...</td>\n",
       "    </tr>\n",
       "    <tr>\n",
       "      <th>1</th>\n",
       "      <td>21c0bd69b7e7df285c3d1b1cf56d4da925980a68</td>\n",
       "      <td>A middle-school teacher in China has inked hun...</td>\n",
       "      <td>Works include pictures of Presidential Palace ...</td>\n",
       "    </tr>\n",
       "    <tr>\n",
       "      <th>2</th>\n",
       "      <td>56f340189cd128194b2e7cb8c26bb900e3a848b4</td>\n",
       "      <td>A man convicted of killing the father and sist...</td>\n",
       "      <td>Iftekhar Murtaza, 29, was convicted a year ago...</td>\n",
       "    </tr>\n",
       "    <tr>\n",
       "      <th>3</th>\n",
       "      <td>00a665151b89a53e5a08a389df8334f4106494c2</td>\n",
       "      <td>Avid rugby fan Prince Harry could barely watch...</td>\n",
       "      <td>Prince Harry in attendance for England's crunc...</td>\n",
       "    </tr>\n",
       "    <tr>\n",
       "      <th>4</th>\n",
       "      <td>9f6fbd3c497c4d28879bebebea220884f03eb41a</td>\n",
       "      <td>A Triple M Radio producer has been inundated w...</td>\n",
       "      <td>Nick Slater's colleagues uploaded a picture to...</td>\n",
       "    </tr>\n",
       "  </tbody>\n",
       "</table>\n",
       "</div>"
      ],
      "text/plain": [
       "                                         id  \\\n",
       "0  61df4979ac5fcc2b71be46ed6fe5a46ce7f071c3   \n",
       "1  21c0bd69b7e7df285c3d1b1cf56d4da925980a68   \n",
       "2  56f340189cd128194b2e7cb8c26bb900e3a848b4   \n",
       "3  00a665151b89a53e5a08a389df8334f4106494c2   \n",
       "4  9f6fbd3c497c4d28879bebebea220884f03eb41a   \n",
       "\n",
       "                                             article  \\\n",
       "0  Sally Forrest, an actress-dancer who graced th...   \n",
       "1  A middle-school teacher in China has inked hun...   \n",
       "2  A man convicted of killing the father and sist...   \n",
       "3  Avid rugby fan Prince Harry could barely watch...   \n",
       "4  A Triple M Radio producer has been inundated w...   \n",
       "\n",
       "                                          highlights  \n",
       "0  Sally Forrest, an actress-dancer who graced th...  \n",
       "1  Works include pictures of Presidential Palace ...  \n",
       "2  Iftekhar Murtaza, 29, was convicted a year ago...  \n",
       "3  Prince Harry in attendance for England's crunc...  \n",
       "4  Nick Slater's colleagues uploaded a picture to...  "
      ]
     },
     "execution_count": 32,
     "metadata": {},
     "output_type": "execute_result"
    }
   ],
   "source": [
    "validation.head()"
   ]
  },
  {
   "cell_type": "code",
   "execution_count": 33,
   "id": "e99d5509",
   "metadata": {},
   "outputs": [
    {
     "data": {
      "text/html": [
       "<div>\n",
       "<style scoped>\n",
       "    .dataframe tbody tr th:only-of-type {\n",
       "        vertical-align: middle;\n",
       "    }\n",
       "\n",
       "    .dataframe tbody tr th {\n",
       "        vertical-align: top;\n",
       "    }\n",
       "\n",
       "    .dataframe thead th {\n",
       "        text-align: right;\n",
       "    }\n",
       "</style>\n",
       "<table border=\"1\" class=\"dataframe\">\n",
       "  <thead>\n",
       "    <tr style=\"text-align: right;\">\n",
       "      <th></th>\n",
       "      <th>id</th>\n",
       "      <th>article</th>\n",
       "      <th>highlights</th>\n",
       "    </tr>\n",
       "  </thead>\n",
       "  <tbody>\n",
       "    <tr>\n",
       "      <th>0</th>\n",
       "      <td>92c514c913c0bdfe25341af9fd72b29db544099b</td>\n",
       "      <td>Ever noticed how plane seats appear to be gett...</td>\n",
       "      <td>Experts question if  packed out planes are put...</td>\n",
       "    </tr>\n",
       "    <tr>\n",
       "      <th>1</th>\n",
       "      <td>2003841c7dc0e7c5b1a248f9cd536d727f27a45a</td>\n",
       "      <td>A drunk teenage boy had to be rescued by secur...</td>\n",
       "      <td>Drunk teenage boy climbed into lion enclosure ...</td>\n",
       "    </tr>\n",
       "    <tr>\n",
       "      <th>2</th>\n",
       "      <td>91b7d2311527f5c2b63a65ca98d21d9c92485149</td>\n",
       "      <td>Dougie Freedman is on the verge of agreeing a ...</td>\n",
       "      <td>Nottingham Forest are close to extending Dougi...</td>\n",
       "    </tr>\n",
       "    <tr>\n",
       "      <th>3</th>\n",
       "      <td>caabf9cbdf96eb1410295a673e953d304391bfbb</td>\n",
       "      <td>Liverpool target Neto is also wanted by PSG an...</td>\n",
       "      <td>Fiorentina goalkeeper Neto has been linked wit...</td>\n",
       "    </tr>\n",
       "    <tr>\n",
       "      <th>4</th>\n",
       "      <td>3da746a7d9afcaa659088c8366ef6347fe6b53ea</td>\n",
       "      <td>Bruce Jenner will break his silence in a two-h...</td>\n",
       "      <td>Tell-all interview with the reality TV star, 6...</td>\n",
       "    </tr>\n",
       "  </tbody>\n",
       "</table>\n",
       "</div>"
      ],
      "text/plain": [
       "                                         id  \\\n",
       "0  92c514c913c0bdfe25341af9fd72b29db544099b   \n",
       "1  2003841c7dc0e7c5b1a248f9cd536d727f27a45a   \n",
       "2  91b7d2311527f5c2b63a65ca98d21d9c92485149   \n",
       "3  caabf9cbdf96eb1410295a673e953d304391bfbb   \n",
       "4  3da746a7d9afcaa659088c8366ef6347fe6b53ea   \n",
       "\n",
       "                                             article  \\\n",
       "0  Ever noticed how plane seats appear to be gett...   \n",
       "1  A drunk teenage boy had to be rescued by secur...   \n",
       "2  Dougie Freedman is on the verge of agreeing a ...   \n",
       "3  Liverpool target Neto is also wanted by PSG an...   \n",
       "4  Bruce Jenner will break his silence in a two-h...   \n",
       "\n",
       "                                          highlights  \n",
       "0  Experts question if  packed out planes are put...  \n",
       "1  Drunk teenage boy climbed into lion enclosure ...  \n",
       "2  Nottingham Forest are close to extending Dougi...  \n",
       "3  Fiorentina goalkeeper Neto has been linked wit...  \n",
       "4  Tell-all interview with the reality TV star, 6...  "
      ]
     },
     "execution_count": 33,
     "metadata": {},
     "output_type": "execute_result"
    }
   ],
   "source": [
    "test.head()"
   ]
  },
  {
   "cell_type": "code",
   "execution_count": 35,
   "id": "4f3eb1af",
   "metadata": {
    "scrolled": false
   },
   "outputs": [
    {
     "name": "stdout",
     "output_type": "stream",
     "text": [
      "[\"Ever noticed how plane seats appear to be getting smaller and smaller? With increasing numbers of people taking to the skies, some experts are questioning if having such packed out planes is putting passengers at risk. They say that the shrinking space on aeroplanes is not only uncomfortable - it's putting our health and safety in danger. More than squabbling over the arm rest, shrinking space on planes putting our health and safety in danger? This week, a U.S consumer advisory group set up by the Department of Transportation said at a public hearing that while the government is happy to set standards for animals flying on planes, it doesn't stipulate a minimum amount of space for humans. 'In a world where animals have more rights to space and food than humans,' said Charlie Leocha, consumer representative on the committee.\\xa0'It is time that the DOT and FAA take a stand for humane treatment of passengers.' But could crowding on planes lead to more serious issues than fighting for space in the overhead lockers, crashing elbows and seat back kicking? Tests conducted by the FAA use planes with a 31 inch pitch, a standard which on some airlines has decreased . Many economy seats on United Airlines have 30 inches of room, while some airlines offer as little as 28 inches . Cynthia Corbertt, a human factors researcher with the Federal Aviation Administration, that it conducts tests on how quickly passengers can leave a plane. But these tests are conducted using planes with 31 inches between each row of seats, a standard which on some airlines has decreased, reported the Detroit News. The distance between two seats from one point on a seat to the same point on the seat behind it is known as the pitch. While most airlines stick to a pitch of 31 inches or above, some fall below this. While United Airlines has 30 inches of space, Gulf Air economy seats have between 29 and 32 inches, Air Asia offers 29 inches and Spirit Airlines offers just 28 inches. British Airways has a seat pitch of 31 inches, while easyJet has 29 inches, Thomson's short haul seat pitch is 28 inches, and Virgin Atlantic's is 30-31.\", \"A drunk teenage boy had to be rescued by security after jumping into a lions' enclosure at a zoo in western India. Rahul Kumar, 17, clambered over the enclosure fence at the\\xa0Kamla Nehru Zoological Park in Ahmedabad, and began running towards the animals, shouting he would 'kill them'. Mr Kumar explained afterwards that he was drunk and 'thought I'd stand a good chance' against the predators. Next level drunk: Intoxicated Rahul Kumar, 17, climbed into the lions' enclosure at a zoo in Ahmedabad and began running towards the animals shouting 'Today I kill a lion!' Mr Kumar had been sitting near the enclosure when he suddenly made a dash for the lions, surprising zoo security. The intoxicated teenager ran towards the lions, shouting: 'Today I kill a lion or a lion kills me!' A zoo spokesman said: 'Guards had earlier spotted him close to the enclosure but had no idea he was planing to enter it. 'Fortunately, there are eight moats to cross before getting to where the lions usually are and he fell into the second one, allowing guards to catch up with him and take him out. 'We then handed him over to the police.' Brave fool: Fortunately, Mr Kumar  fell into a moat as he ran towards the lions and could be rescued by zoo security staff before reaching the animals (stock image) Kumar later explained: 'I don't really know why I did it. 'I was drunk and thought I'd stand a good chance.' A police spokesman said: 'He has been cautioned and will be sent for psychiatric evaluation. 'Fortunately for him, the lions were asleep and the zoo guards acted quickly enough to prevent a tragedy similar to that in Delhi.' Last year a 20-year-old man was mauled to death by a tiger in the Indian capital after climbing into its enclosure at the city zoo.\"]\n"
     ]
    }
   ],
   "source": [
    "print(test.loc[:1, 'article'].tolist())"
   ]
  },
  {
   "cell_type": "code",
   "execution_count": 38,
   "id": "8f41e62b",
   "metadata": {
    "scrolled": true
   },
   "outputs": [
    {
     "name": "stdout",
     "output_type": "stream",
     "text": [
      "['Experts question if  packed out planes are putting passengers at risk .\\nU.S consumer advisory group says minimum space must be stipulated .\\nSafety tests conducted on planes with more leg room than airlines offer .', \"Drunk teenage boy climbed into lion enclosure at zoo in west India .\\nRahul Kumar, 17, ran towards animals shouting 'Today I kill a lion!'\\nFortunately he fell into a moat before reaching lions and was rescued .\"]\n"
     ]
    }
   ],
   "source": [
    "print(test.loc[:1, 'highlights'].tolist())"
   ]
  },
  {
   "cell_type": "code",
   "execution_count": 8,
   "id": "69dcbd76",
   "metadata": {},
   "outputs": [
    {
     "data": {
      "text/plain": [
       "Index(['id', 'article', 'highlights'], dtype='object')"
      ]
     },
     "execution_count": 8,
     "metadata": {},
     "output_type": "execute_result"
    }
   ],
   "source": [
    "data.columns"
   ]
  },
  {
   "cell_type": "code",
   "execution_count": 10,
   "id": "fedf0c7f",
   "metadata": {},
   "outputs": [
    {
     "data": {
      "text/plain": [
       "1000"
      ]
     },
     "execution_count": 10,
     "metadata": {},
     "output_type": "execute_result"
    }
   ],
   "source": [
    "df = data\n",
    "df = df.highlights.dropna()\n",
    "df_articles = df.values.tolist()\n",
    "\n",
    "# Limit the length of df_articles to 500\n",
    "df_articles = df_articles[:1000]\n",
    "\n",
    "len(df_articles)"
   ]
  },
  {
   "cell_type": "code",
   "execution_count": 11,
   "id": "ea10b2db",
   "metadata": {
    "collapsed": true
   },
   "outputs": [
    {
     "name": "stdout",
     "output_type": "stream",
     "text": [
      "Requirement already satisfied: transformers in c:\\users\\ihsan b p\\anaconda3\\lib\\site-packages (4.16.2)"
     ]
    },
    {
     "name": "stderr",
     "output_type": "stream",
     "text": [
      "WARNING: Ignoring invalid distribution -etuptools (c:\\users\\ihsan b p\\anaconda3\\lib\\site-packages)\n",
      "WARNING: Ignoring invalid distribution -etuptools (c:\\users\\ihsan b p\\anaconda3\\lib\\site-packages)\n",
      "WARNING: Ignoring invalid distribution -etuptools (c:\\users\\ihsan b p\\anaconda3\\lib\\site-packages)\n",
      "    WARNING: Ignoring invalid distribution -etuptools (c:\\users\\ihsan b p\\anaconda3\\lib\\site-packages)\n",
      "    WARNING: Ignoring invalid distribution -etuptools (c:\\users\\ihsan b p\\anaconda3\\lib\\site-packages)\n",
      "WARNING: Ignoring invalid distribution -etuptools (c:\\users\\ihsan b p\\anaconda3\\lib\\site-packages)\n",
      "WARNING: Ignoring invalid distribution -etuptools (c:\\users\\ihsan b p\\anaconda3\\lib\\site-packages)\n",
      "WARNING: Ignoring invalid distribution -etuptools (c:\\users\\ihsan b p\\anaconda3\\lib\\site-packages)\n",
      "ERROR: pip's dependency resolver does not currently take into account all the packages that are installed. This behaviour is the source of the following dependency conflicts.\n",
      "simplet5 0.1.4 requires transformers==4.16.2, but you have transformers 4.30.2 which is incompatible.\n",
      "WARNING: Ignoring invalid distribution -etuptools (c:\\users\\ihsan b p\\anaconda3\\lib\\site-packages)\n",
      "WARNING: Ignoring invalid distribution -etuptools (c:\\users\\ihsan b p\\anaconda3\\lib\\site-packages)\n",
      "WARNING: Ignoring invalid distribution -etuptools (c:\\users\\ihsan b p\\anaconda3\\lib\\site-packages)\n",
      "\n",
      "[notice] A new release of pip is available: 23.0.1 -> 23.1.2\n",
      "[notice] To update, run: python.exe -m pip install --upgrade pip\n"
     ]
    },
    {
     "name": "stdout",
     "output_type": "stream",
     "text": [
      "\n",
      "Collecting transformers\n",
      "  Using cached transformers-4.30.2-py3-none-any.whl (7.2 MB)\n",
      "Requirement already satisfied: requests in c:\\users\\ihsan b p\\anaconda3\\lib\\site-packages (from transformers) (2.27.1)\n",
      "Requirement already satisfied: pyyaml>=5.1 in c:\\users\\ihsan b p\\anaconda3\\lib\\site-packages (from transformers) (6.0)\n",
      "Requirement already satisfied: regex!=2019.12.17 in c:\\users\\ihsan b p\\anaconda3\\lib\\site-packages (from transformers) (2022.3.15)\n",
      "Requirement already satisfied: packaging>=20.0 in c:\\users\\ihsan b p\\anaconda3\\lib\\site-packages (from transformers) (21.3)\n",
      "Requirement already satisfied: huggingface-hub<1.0,>=0.14.1 in c:\\users\\ihsan b p\\anaconda3\\lib\\site-packages (from transformers) (0.15.1)\n",
      "Collecting safetensors>=0.3.1\n",
      "  Using cached safetensors-0.3.1-cp39-cp39-win_amd64.whl (263 kB)\n",
      "Requirement already satisfied: tqdm>=4.27 in c:\\users\\ihsan b p\\anaconda3\\lib\\site-packages (from transformers) (4.64.0)\n",
      "Requirement already satisfied: filelock in c:\\users\\ihsan b p\\anaconda3\\lib\\site-packages (from transformers) (3.6.0)\n",
      "Requirement already satisfied: numpy>=1.17 in c:\\users\\ihsan b p\\anaconda3\\lib\\site-packages (from transformers) (1.22.4)\n",
      "Collecting tokenizers!=0.11.3,<0.14,>=0.11.1\n",
      "  Using cached tokenizers-0.13.3-cp39-cp39-win_amd64.whl (3.5 MB)\n",
      "Requirement already satisfied: fsspec in c:\\users\\ihsan b p\\anaconda3\\lib\\site-packages (from huggingface-hub<1.0,>=0.14.1->transformers) (2022.2.0)\n",
      "Requirement already satisfied: typing-extensions>=3.7.4.3 in c:\\users\\ihsan b p\\anaconda3\\lib\\site-packages (from huggingface-hub<1.0,>=0.14.1->transformers) (4.6.3)\n",
      "Requirement already satisfied: pyparsing!=3.0.5,>=2.0.2 in c:\\users\\ihsan b p\\anaconda3\\lib\\site-packages (from packaging>=20.0->transformers) (3.0.4)\n",
      "Requirement already satisfied: colorama in c:\\users\\ihsan b p\\anaconda3\\lib\\site-packages (from tqdm>=4.27->transformers) (0.4.6)\n",
      "Requirement already satisfied: urllib3<1.27,>=1.21.1 in c:\\users\\ihsan b p\\anaconda3\\lib\\site-packages (from requests->transformers) (1.26.9)\n",
      "Requirement already satisfied: idna<4,>=2.5 in c:\\users\\ihsan b p\\anaconda3\\lib\\site-packages (from requests->transformers) (3.3)\n",
      "Requirement already satisfied: charset-normalizer~=2.0.0 in c:\\users\\ihsan b p\\anaconda3\\lib\\site-packages (from requests->transformers) (2.0.4)\n",
      "Requirement already satisfied: certifi>=2017.4.17 in c:\\users\\ihsan b p\\anaconda3\\lib\\site-packages (from requests->transformers) (2021.10.8)\n",
      "Installing collected packages: tokenizers, safetensors, transformers\n",
      "  Attempting uninstall: tokenizers\n",
      "    Found existing installation: tokenizers 0.10.1\n",
      "    Uninstalling tokenizers-0.10.1:\n",
      "      Successfully uninstalled tokenizers-0.10.1\n",
      "  Attempting uninstall: transformers\n",
      "    Found existing installation: transformers 4.16.2\n",
      "    Uninstalling transformers-4.16.2:\n",
      "      Successfully uninstalled transformers-4.16.2\n",
      "Successfully installed safetensors-0.3.1 tokenizers-0.13.3 transformers-4.30.2\n",
      "Requirement already satisfied: torch in c:\\users\\ihsan b p\\anaconda3\\lib\\site-packages (2.0.1)\n",
      "Requirement already satisfied: networkx in c:\\users\\ihsan b p\\anaconda3\\lib\\site-packages (from torch) (2.7.1)\n",
      "Requirement already satisfied: sympy in c:\\users\\ihsan b p\\anaconda3\\lib\\site-packages (from torch) (1.10.1)\n",
      "Requirement already satisfied: typing-extensions in c:\\users\\ihsan b p\\anaconda3\\lib\\site-packages (from torch) (4.6.3)\n",
      "Requirement already satisfied: jinja2 in c:\\users\\ihsan b p\\anaconda3\\lib\\site-packages (from torch) (2.11.3)\n",
      "Requirement already satisfied: filelock in c:\\users\\ihsan b p\\anaconda3\\lib\\site-packages (from torch) (3.6.0)\n",
      "Requirement already satisfied: MarkupSafe>=0.23 in c:\\users\\ihsan b p\\anaconda3\\lib\\site-packages (from jinja2->torch) (2.0.1)\n",
      "Requirement already satisfied: mpmath>=0.19 in c:\\users\\ihsan b p\\anaconda3\\lib\\site-packages (from sympy->torch) (1.2.1)\n"
     ]
    },
    {
     "name": "stderr",
     "output_type": "stream",
     "text": [
      "WARNING: Ignoring invalid distribution -etuptools (c:\\users\\ihsan b p\\anaconda3\\lib\\site-packages)\n",
      "WARNING: Ignoring invalid distribution -etuptools (c:\\users\\ihsan b p\\anaconda3\\lib\\site-packages)\n",
      "WARNING: Ignoring invalid distribution -etuptools (c:\\users\\ihsan b p\\anaconda3\\lib\\site-packages)\n",
      "WARNING: Ignoring invalid distribution -etuptools (c:\\users\\ihsan b p\\anaconda3\\lib\\site-packages)\n",
      "WARNING: Ignoring invalid distribution -etuptools (c:\\users\\ihsan b p\\anaconda3\\lib\\site-packages)\n",
      "WARNING: Ignoring invalid distribution -etuptools (c:\\users\\ihsan b p\\anaconda3\\lib\\site-packages)\n",
      "\n",
      "[notice] A new release of pip is available: 23.0.1 -> 23.1.2\n",
      "[notice] To update, run: python.exe -m pip install --upgrade pip\n"
     ]
    }
   ],
   "source": [
    "!pip install -U transformers\n",
    "!pip install -U torch"
   ]
  },
  {
   "cell_type": "markdown",
   "id": "2345ce21",
   "metadata": {},
   "source": [
    "<h2>Summarization using T5 model"
   ]
  },
  {
   "cell_type": "code",
   "execution_count": 12,
   "id": "592b862b",
   "metadata": {},
   "outputs": [],
   "source": [
    "import torch\n",
    "import os\n",
    "import json\n",
    "\n",
    "from transformers import T5Tokenizer, T5ForConditionalGeneration, T5Config"
   ]
  },
  {
   "cell_type": "code",
   "execution_count": 17,
   "id": "e7933fb9",
   "metadata": {},
   "outputs": [
    {
     "data": {
      "application/vnd.jupyter.widget-view+json": {
       "model_id": "464688babc4d4f0892dd2a421335764a",
       "version_major": 2,
       "version_minor": 0
      },
      "text/plain": [
       "Downloading pytorch_model.bin:   0%|          | 0.00/892M [00:00<?, ?B/s]"
      ]
     },
     "metadata": {},
     "output_type": "display_data"
    },
    {
     "data": {
      "application/vnd.jupyter.widget-view+json": {
       "model_id": "b7dc50b8c72f449dbbf81ddd2831fb52",
       "version_major": 2,
       "version_minor": 0
      },
      "text/plain": [
       "Downloading spiece.model:   0%|          | 0.00/792k [00:00<?, ?B/s]"
      ]
     },
     "metadata": {},
     "output_type": "display_data"
    },
    {
     "data": {
      "application/vnd.jupyter.widget-view+json": {
       "model_id": "6f16879c42f24c3dbfa00b647d1b169c",
       "version_major": 2,
       "version_minor": 0
      },
      "text/plain": [
       "Downloading (…)cial_tokens_map.json:   0%|          | 0.00/2.20k [00:00<?, ?B/s]"
      ]
     },
     "metadata": {},
     "output_type": "display_data"
    },
    {
     "data": {
      "application/vnd.jupyter.widget-view+json": {
       "model_id": "a932887231fb4550b8994d67832945d7",
       "version_major": 2,
       "version_minor": 0
      },
      "text/plain": [
       "Downloading (…)okenizer_config.json:   0%|          | 0.00/2.37k [00:00<?, ?B/s]"
      ]
     },
     "metadata": {},
     "output_type": "display_data"
    }
   ],
   "source": [
    "T5_PATH = 'Einmalumdiewelt/T5-Base_GNAD'\n",
    "t5_model = T5ForConditionalGeneration.from_pretrained(T5_PATH, output_past=True)\n",
    "t5_tokenizer = T5Tokenizer.from_pretrained(T5_PATH)\n",
    "x = t5_tokenizer(df_articles, truncation=True, max_length=1000)"
   ]
  },
  {
   "cell_type": "code",
   "execution_count": 18,
   "id": "b34111f9",
   "metadata": {},
   "outputs": [],
   "source": [
    "device = torch.device('cuda' if torch.cuda.is_available() else 'cpu')\n",
    "\n",
    "def t5_summarize(input_text, num_beams=4, num_words=80):\n",
    "    input_text = ' '.join(input_text.split())\n",
    "    input_tokenized = t5_tokenizer.encode(input_text, return_tensors=\"pt\").to(device)\n",
    "    summary_task = torch.tensor([[21603, 10]]).to(device)\n",
    "    input_tokenized = torch.cat([summary_task, input_tokenized], dim=-1).to(device)\n",
    "\n",
    "    # Move the model to the same device as input tensors\n",
    "    t5_model.to(device)\n",
    "\n",
    "    summary_ids = t5_model.generate(input_tokenized,\n",
    "                                    num_beams=int(num_beams),\n",
    "                                    no_repeat_ngram_size=3,\n",
    "                                    length_penalty=2.0,\n",
    "                                    min_length=30,\n",
    "                                    max_length=int(num_words),\n",
    "                                    early_stopping=True)\n",
    "    output = [t5_tokenizer.decode(g, skip_special_tokens=True, clean_up_tokenization_spaces=False) \n",
    "              for g in summary_ids]\n",
    "    return output[0] "
   ]
  },
  {
   "cell_type": "code",
   "execution_count": 19,
   "id": "560f6259",
   "metadata": {},
   "outputs": [
    {
     "name": "stdout",
     "output_type": "stream",
     "text": [
      "news articles  1  : \n",
      "\n",
      "In North Dakota, a priest has been diagnosed with a food-borne illness. He is taking time off after being diagnosed with the infection.\n",
      "............................................................................\n",
      "\n",
      "\n",
      "\n",
      "\n",
      "news articles  2  : \n",
      "\n",
      "Cop allegedly arranged to pay two assassins in a murder plot. He also allegedly helped group get guns, a criminal complaint alleges.\n",
      "............................................................................\n",
      "\n",
      "\n",
      "\n",
      "\n",
      "news articles  3  : \n",
      "\n",
      "Craig Eccleston-Todd, 27, was using phone when he veered across road in Yarmouth, Isle of Wight . He had drunk at least three pints before driving car .\n",
      "............................................................................\n",
      "\n",
      "\n",
      "\n",
      "\n",
      "news articles  4  : \n",
      "\n",
      "In a recent interview, the US-based economist Nina dos Santos has said that targeting Russia's business community would be one way of sapping their support for President Putin.\n",
      "............................................................................\n",
      "\n",
      "\n",
      "\n",
      "\n",
      "news articles  5  : \n",
      "\n",
      "Fleetwood top of League One after a 2-0 win at Scunthorpe . Stand-in striker Matt Done scored a goal as Rochdale thrashed Crewe 5-2.\n",
      "............................................................................\n",
      "\n",
      "\n",
      "\n",
      "\n",
      "news articles  6  : \n",
      "\n",
      "Prime Minister David Cameron sported the same £20.99 beige loafers as he wore in Portugal last year - and sat and had a drink at a beach-side cafe.\n",
      "............................................................................\n",
      "\n",
      "\n",
      "\n",
      "\n",
      "CPU times: total: 48.7 s\n",
      "Wall time: 19.4 s\n"
     ]
    }
   ],
   "source": [
    "%%time\n",
    "for i in range(6):\n",
    "    \n",
    "        print('news articles ',i + 1, \" : \\n\" )\n",
    "        print(t5_summarize(df_articles[i]))\n",
    "        print('............................................................................\\n\\n\\n\\n')"
   ]
  },
  {
   "cell_type": "code",
   "execution_count": 59,
   "id": "7c544639",
   "metadata": {},
   "outputs": [
    {
     "name": "stdout",
     "output_type": "stream",
     "text": [
      "Enter the text to summarize: Liverpool target Neto is also wanted by PSG and clubs in Spain as Brendan Rodgers faces stiff competition to land the Fiorentina goalkeeper, according to the Brazilian's agent Stefano Castagna. The Reds were linked with a move for the 25-year-old, whose contract expires in June, earlier in the season when Simon Mignolet was dropped from the side. A January move for Neto never materialised but the former Atletico Paranaense keeper looks certain to leave the Florence-based club in the summer. Neto rushes from his goal as Juan Iturbe bears down on him during Fiorentina's clash with Roma in March . Neto is wanted by a number of top European clubs including Liverpool and PSG, according to his agent . It had been reported that Neto had a verbal agreement to join Serie A champions Juventus at the end of the season but his agent has revealed no decision about his future has been made yet. And Castagna claims Neto will have his pick of top European clubs when the transfer window re-opens in the summer, including Brendan Rodgers' side. 'There are many European clubs interested in Neto, such as for example Liverpool and Paris Saint-Germain,' Stefano Castagna is quoted as saying by Gazzetta TV. Firoentina goalkeeper Neto saves at the feet of Tottenham midfielder Nacer Chadli in the Europa League . 'In Spain too there are clubs at the very top level who are tracking him. Real Madrid? We'll see. 'We have not made a definitive decision, but in any case he will not accept another loan move elsewhere.' Neto, who represented Brazil at the London 2012 Olympics but has not featured for the senior side, was warned against joining a club as a No 2 by national coach Dunga. Neto joined Fiorentina from\\xa0Atletico Paranaense in 2011 and established himself as No1 in the last two seasons.\n",
      "\n",
      "Summary:\n",
      "Brendan Rodgers' side Fiorentina have been linked with a move for goalkeeper Fernando Neto. The Brazilian is also wanted by several top European clubs, according to his agent Stefano Castagna.\n"
     ]
    }
   ],
   "source": [
    "def summarize_text(text):\n",
    "    # Generate summary using the T5 model\n",
    "    summary = t5_summarize(text)\n",
    "    \n",
    "    # Show the generated summary\n",
    "    print(\"\\nSummary:\")\n",
    "    print(summary)\n",
    "\n",
    "# Prompt the user for input and generate summary\n",
    "user_input = input(\"Enter the text to summarize: \")\n",
    "summarize_text(user_input)"
   ]
  },
  {
   "cell_type": "markdown",
   "id": "5d5fd500",
   "metadata": {},
   "source": [
    "<h2>Summarization using bart model"
   ]
  },
  {
   "cell_type": "code",
   "execution_count": 21,
   "id": "d86f3ee1",
   "metadata": {},
   "outputs": [],
   "source": [
    "from transformers import BartTokenizer, BartForConditionalGeneration, BartConfig"
   ]
  },
  {
   "cell_type": "code",
   "execution_count": 22,
   "id": "031040ea",
   "metadata": {},
   "outputs": [
    {
     "data": {
      "application/vnd.jupyter.widget-view+json": {
       "model_id": "1b5daf9fd24d422cab0d63dc5b647239",
       "version_major": 2,
       "version_minor": 0
      },
      "text/plain": [
       "Downloading (…)lve/main/config.json:   0%|          | 0.00/1.58k [00:00<?, ?B/s]"
      ]
     },
     "metadata": {},
     "output_type": "display_data"
    },
    {
     "data": {
      "application/vnd.jupyter.widget-view+json": {
       "model_id": "737fc0043a514364b647c277ab50eea4",
       "version_major": 2,
       "version_minor": 0
      },
      "text/plain": [
       "Downloading pytorch_model.bin:   0%|          | 0.00/1.63G [00:00<?, ?B/s]"
      ]
     },
     "metadata": {},
     "output_type": "display_data"
    },
    {
     "data": {
      "application/vnd.jupyter.widget-view+json": {
       "model_id": "18e34b5260354984ab0d65e27303659e",
       "version_major": 2,
       "version_minor": 0
      },
      "text/plain": [
       "Downloading (…)neration_config.json:   0%|          | 0.00/363 [00:00<?, ?B/s]"
      ]
     },
     "metadata": {},
     "output_type": "display_data"
    },
    {
     "data": {
      "application/vnd.jupyter.widget-view+json": {
       "model_id": "d2a2b46b4bc542e1b5dca5f297b607c1",
       "version_major": 2,
       "version_minor": 0
      },
      "text/plain": [
       "Downloading (…)olve/main/vocab.json:   0%|          | 0.00/899k [00:00<?, ?B/s]"
      ]
     },
     "metadata": {},
     "output_type": "display_data"
    },
    {
     "data": {
      "application/vnd.jupyter.widget-view+json": {
       "model_id": "28fb9b881d2d4b319ddc3ae19de136fb",
       "version_major": 2,
       "version_minor": 0
      },
      "text/plain": [
       "Downloading (…)olve/main/merges.txt:   0%|          | 0.00/456k [00:00<?, ?B/s]"
      ]
     },
     "metadata": {},
     "output_type": "display_data"
    }
   ],
   "source": [
    "bart_PATH = 'facebook/bart-large-cnn'\n",
    "bart_model = BartForConditionalGeneration.from_pretrained(bart_PATH, output_past=True)\n",
    "bart_tokenizer = BartTokenizer.from_pretrained(bart_PATH)\n",
    "x = bart_tokenizer(df_articles, truncation=True, max_length=500)"
   ]
  },
  {
   "cell_type": "code",
   "execution_count": 23,
   "id": "0981bbe3",
   "metadata": {},
   "outputs": [],
   "source": [
    "def bart_summarize(input_text, num_beams=4, num_words=80):\n",
    "    #input_text = str(input_text)\n",
    "    input_text = ' '.join(input_text.split())\n",
    "    input_tokenized = bart_tokenizer.encode(input_text, return_tensors='pt')\n",
    "    summary_ids = bart_model.generate(input_tokenized,\n",
    "                                      num_beams=int(num_beams),\n",
    "                                      no_repeat_ngram_size=3,\n",
    "                                      length_penalty=2.0,\n",
    "                                      min_length=80,\n",
    "                                      max_length=int(num_words),\n",
    "                                      early_stopping=True)\n",
    "    output = [bart_tokenizer.decode(g, skip_special_tokens=True, clean_up_tokenization_spaces=False) for g in summary_ids]\n",
    "    return output[0]"
   ]
  },
  {
   "cell_type": "code",
   "execution_count": 25,
   "id": "dc412b01",
   "metadata": {},
   "outputs": [
    {
     "name": "stdout",
     "output_type": "stream",
     "text": [
      "news article  1  : \n",
      "\n",
      "Bishop John Folda, of North Dakota, is taking time off after being diagnosed. He contracted the infection through contaminated food in Italy. Church members in Fargo, Grand Forks and Jamestown could have been exposed. The bishop is expected to return to work in the fall. He has been diagnosed with an infection that can be transmitted via contaminated food. The infection can also be\n",
      "............................................................................\n",
      "\n",
      "\n",
      "\n",
      "\n",
      "news article  2  : \n",
      "\n",
      "Criminal complaint: Cop used his role to help cocaine traffickers. Ralph Mata, an internal affairs lieutenant, allegedly helped group get guns. He also arranged to pay two assassins in a murder plot, a complaint alleges. Mata is accused of using his position to help drug traffickers get guns and money. He is also accused of arranging to pay assassins to kill a man in a plot.\n",
      "............................................................................\n",
      "\n",
      "\n",
      "\n",
      "\n",
      "news article  3  : \n",
      "\n",
      "Craig Eccleston-Todd, 27, had drunk at least three pints before driving car. Was using phone when he veered across road in Yarmouth, Isle of Wight. Crashed head-on into 28-year-old Rachel Titley's car, who died in hospital. Police say he would have been over legal drink-drive limit at time of crash\n",
      "............................................................................\n",
      "\n",
      "\n",
      "\n",
      "\n",
      "news article  4  : \n",
      "\n",
      "Nina dos Santos says Europe must be ready to accept sanctions will hurt both sides. Targeting Russia's business community would be one way of sapping their support for President Putin, she says. But she says Europe would have a hard time keeping its factories going without power from the east. She says Europe will have to accept the pain of sanctions on both sides to get a deal.\n",
      "............................................................................\n",
      "\n",
      "\n",
      "\n",
      "\n",
      "news article  5  : \n",
      "\n",
      "Fleetwood top of League One after 2-0 win at Scunthorpe. Peterborough, Bristol City, Chesterfield and Crawley all drop first points of the season. Stand-in striker Matt Done scores a hat-trick as Rochdale thrash Crewe 5-2. Coventry/Bradford and Oldham/Port Vale both end in draws\n",
      "............................................................................\n",
      "\n",
      "\n",
      "\n",
      "\n",
      "news article  6  : \n",
      "\n",
      "Prime Minister and his family are enjoying an Easter break in Lanzarote. Sported the same £20.99 beige loafers as he wore in Portugal last year. PM sat and had a drink at a beach-side cafe on the Spanish Island. He was joined by his wife Camilla and their three children. The family are staying in a luxury villa on the island\n",
      "............................................................................\n",
      "\n",
      "\n",
      "\n",
      "\n",
      "CPU times: total: 2min 11s\n",
      "Wall time: 51.5 s\n"
     ]
    }
   ],
   "source": [
    "%%time\n",
    "for i in range(6):\n",
    "    \n",
    "        print('news article ',i + 1, \" : \\n\" )\n",
    "        print(bart_summarize(df_articles[i]))\n",
    "        print('............................................................................\\n\\n\\n\\n')"
   ]
  },
  {
   "cell_type": "code",
   "execution_count": 37,
   "id": "43e7594a",
   "metadata": {},
   "outputs": [
    {
     "name": "stdout",
     "output_type": "stream",
     "text": [
      "Enter the text to summarize: A drunk teenage boy had to be rescued by security after jumping into a lions' enclosure at a zoo in western India. Rahul Kumar, 17, clambered over the enclosure fence at the\\xa0Kamla Nehru Zoological Park in Ahmedabad, and began running towards the animals, shouting he would 'kill them'. Mr Kumar explained afterwards that he was drunk and 'thought I'd stand a good chance' against the predators. Next level drunk: Intoxicated Rahul Kumar, 17, climbed into the lions' enclosure at a zoo in Ahmedabad and began running towards the animals shouting 'Today I kill a lion!' Mr Kumar had been sitting near the enclosure when he suddenly made a dash for the lions, surprising zoo security. The intoxicated teenager ran towards the lions, shouting: 'Today I kill a lion or a lion kills me!' A zoo spokesman said: 'Guards had earlier spotted him close to the enclosure but had no idea he was planing to enter it. 'Fortunately, there are eight moats to cross before getting to where the lions usually are and he fell into the second one, allowing guards to catch up with him and take him out. 'We then handed him over to the police.' Brave fool: Fortunately, Mr Kumar  fell into a moat as he ran towards the lions and could be rescued by zoo security staff before reaching the animals (stock image) Kumar later explained: 'I don't really know why I did it. 'I was drunk and thought I'd stand a good chance.' A police spokesman said: 'He has been cautioned and will be sent for psychiatric evaluation. 'Fortunately for him, the lions were asleep and the zoo guards acted quickly enough to prevent a tragedy similar to that in Delhi.' Last year a 20-year-old man was mauled to death by a tiger in the Indian capital after climbing into its enclosure at the city zoo.\n",
      "\n",
      "Summary:\n",
      "Rahul Kumar, 17, climbed into the lions' enclosure at a zoo in Ahmedabad. He ran towards the animals shouting: 'Today I kill a lion or a lion kills me!' Fortunately, Mr Kumar fell into a moat before reaching the animals. He has been cautioned and will be sent for psychiatric evaluation. Last year a 20-year-old man was mauled\n"
     ]
    }
   ],
   "source": [
    "def summarize_text(text):\n",
    "    # Generate summary using the bart model\n",
    "    summary = bart_summarize(text)\n",
    "    \n",
    "    # Show the generated summary\n",
    "    print(\"\\nSummary:\")\n",
    "    print(summary)\n",
    "\n",
    "# Prompt the user for input and generate summary\n",
    "user_input = input(\"Enter the text to summarize: \")\n",
    "summarize_text(user_input)"
   ]
  },
  {
   "cell_type": "markdown",
   "id": "74f41301",
   "metadata": {},
   "source": [
    "<h2>evaluation metric"
   ]
  },
  {
   "cell_type": "code",
   "execution_count": 28,
   "id": "73cf1a05",
   "metadata": {
    "collapsed": true
   },
   "outputs": [
    {
     "name": "stderr",
     "output_type": "stream",
     "text": [
      "WARNING: Ignoring invalid distribution -etuptools (c:\\users\\ihsan b p\\anaconda3\\lib\\site-packages)\n",
      "WARNING: Ignoring invalid distribution -etuptools (c:\\users\\ihsan b p\\anaconda3\\lib\\site-packages)\n",
      "WARNING: Ignoring invalid distribution -etuptools (c:\\users\\ihsan b p\\anaconda3\\lib\\site-packages)\n",
      "WARNING: Ignoring invalid distribution -etuptools (c:\\users\\ihsan b p\\anaconda3\\lib\\site-packages)\n",
      "WARNING: Ignoring invalid distribution -etuptools (c:\\users\\ihsan b p\\anaconda3\\lib\\site-packages)\n",
      "WARNING: Ignoring invalid distribution -etuptools (c:\\users\\ihsan b p\\anaconda3\\lib\\site-packages)\n",
      "WARNING: Ignoring invalid distribution -etuptools (c:\\users\\ihsan b p\\anaconda3\\lib\\site-packages)\n",
      "\n",
      "[notice] A new release of pip is available: 23.0.1 -> 23.1.2\n",
      "[notice] To update, run: python.exe -m pip install --upgrade pip\n"
     ]
    },
    {
     "name": "stdout",
     "output_type": "stream",
     "text": [
      "Collecting rouge-score\n",
      "  Downloading rouge_score-0.1.2.tar.gz (17 kB)\n",
      "  Preparing metadata (setup.py): started\n",
      "  Preparing metadata (setup.py): finished with status 'done'\n",
      "Requirement already satisfied: absl-py in c:\\users\\ihsan b p\\anaconda3\\lib\\site-packages (from rouge-score) (1.4.0)\n",
      "Requirement already satisfied: nltk in c:\\users\\ihsan b p\\anaconda3\\lib\\site-packages (from rouge-score) (3.7)\n",
      "Requirement already satisfied: numpy in c:\\users\\ihsan b p\\anaconda3\\lib\\site-packages (from rouge-score) (1.22.4)\n",
      "Requirement already satisfied: six>=1.14.0 in c:\\users\\ihsan b p\\anaconda3\\lib\\site-packages (from rouge-score) (1.16.0)\n",
      "Requirement already satisfied: click in c:\\users\\ihsan b p\\anaconda3\\lib\\site-packages (from nltk->rouge-score) (8.0.4)\n",
      "Requirement already satisfied: joblib in c:\\users\\ihsan b p\\anaconda3\\lib\\site-packages (from nltk->rouge-score) (1.2.0)\n",
      "Requirement already satisfied: tqdm in c:\\users\\ihsan b p\\anaconda3\\lib\\site-packages (from nltk->rouge-score) (4.64.0)\n",
      "Requirement already satisfied: regex>=2021.8.3 in c:\\users\\ihsan b p\\anaconda3\\lib\\site-packages (from nltk->rouge-score) (2022.3.15)\n",
      "Requirement already satisfied: colorama in c:\\users\\ihsan b p\\anaconda3\\lib\\site-packages (from click->nltk->rouge-score) (0.4.6)\n",
      "Building wheels for collected packages: rouge-score\n",
      "  Building wheel for rouge-score (setup.py): started\n",
      "  Building wheel for rouge-score (setup.py): finished with status 'done'\n",
      "  Created wheel for rouge-score: filename=rouge_score-0.1.2-py3-none-any.whl size=24955 sha256=36ee4cce5e1f0f218eb878735bcb513ff732c8fb2356c5210b1f84ae4af8f6fc\n",
      "  Stored in directory: c:\\users\\ihsan b p\\appdata\\local\\pip\\cache\\wheels\\9b\\3d\\39\\09558097d3119ca0a4d462df68f22c6f3c1b345ac63a09b86e\n",
      "Successfully built rouge-score\n",
      "Installing collected packages: rouge-score\n",
      "Successfully installed rouge-score-0.1.2\n",
      "Collecting rouge\n",
      "  Downloading rouge-1.0.1-py3-none-any.whl (13 kB)\n",
      "Requirement already satisfied: six in c:\\users\\ihsan b p\\anaconda3\\lib\\site-packages (from rouge) (1.16.0)\n",
      "Installing collected packages: rouge\n",
      "Successfully installed rouge-1.0.1\n"
     ]
    },
    {
     "name": "stderr",
     "output_type": "stream",
     "text": [
      "WARNING: Ignoring invalid distribution -etuptools (c:\\users\\ihsan b p\\anaconda3\\lib\\site-packages)\n",
      "WARNING: Ignoring invalid distribution -etuptools (c:\\users\\ihsan b p\\anaconda3\\lib\\site-packages)\n",
      "WARNING: Ignoring invalid distribution -etuptools (c:\\users\\ihsan b p\\anaconda3\\lib\\site-packages)\n",
      "WARNING: Ignoring invalid distribution -etuptools (c:\\users\\ihsan b p\\anaconda3\\lib\\site-packages)\n",
      "WARNING: Ignoring invalid distribution -etuptools (c:\\users\\ihsan b p\\anaconda3\\lib\\site-packages)\n",
      "WARNING: Ignoring invalid distribution -etuptools (c:\\users\\ihsan b p\\anaconda3\\lib\\site-packages)\n",
      "WARNING: Ignoring invalid distribution -etuptools (c:\\users\\ihsan b p\\anaconda3\\lib\\site-packages)\n",
      "\n",
      "[notice] A new release of pip is available: 23.0.1 -> 23.1.2\n",
      "[notice] To update, run: python.exe -m pip install --upgrade pip\n"
     ]
    }
   ],
   "source": [
    "!pip install rouge-score\n",
    "!pip install rouge"
   ]
  },
  {
   "cell_type": "code",
   "execution_count": 60,
   "id": "c321713d",
   "metadata": {},
   "outputs": [
    {
     "name": "stdout",
     "output_type": "stream",
     "text": [
      "ROUGE Scores:\n",
      "[{'rouge-1': {'r': 0.4594594594594595, 'p': 0.5666666666666667, 'f': 0.5074626816217421}, 'rouge-2': {'r': 0.23076923076923078, 'p': 0.3103448275862069, 'f': 0.2647058774610727}, 'rouge-l': {'r': 0.43243243243243246, 'p': 0.5333333333333333, 'f': 0.4776119353530853}}]\n"
     ]
    }
   ],
   "source": [
    "from rouge import Rouge\n",
    "\n",
    "# Define the generated summary and reference summary\n",
    "generated_summary_T5 = '''Brendan Rodgers' side Fiorentina have been linked with a move for goalkeeper Fernando Neto. The Brazilian is also wanted by several top European clubs, according to his agent Stefano Castagna.'''\n",
    "reference_summary = '''Fiorentina goalkeeper Neto has been linked with Liverpool and Arsenal .\\nNeto joined Firoentina\\xa0from Brazilian outfit Atletico Paranaense in 2011 .\\nHe is also wanted by PSG and Spanish clubs, according to his agent .\\nCLICK HERE for the latest Liverpool news .'''\n",
    "# Initialize Rouge scorer\n",
    "rouge_scorer = Rouge()\n",
    "\n",
    "# Calculate ROUGE scores\n",
    "rouge_scores = rouge_scorer.get_scores(generated_summary_T5,\n",
    "                                       reference_summary)\n",
    "\n",
    "\n",
    "print(\"ROUGE Scores:\")\n",
    "print(rouge_scores)"
   ]
  },
  {
   "cell_type": "code",
   "execution_count": 39,
   "id": "3865b727",
   "metadata": {},
   "outputs": [
    {
     "name": "stdout",
     "output_type": "stream",
     "text": [
      "ROUGE Scores:\n",
      "[{'rouge-1': {'r': 0.6764705882352942, 'p': 0.4791666666666667, 'f': 0.5609756049018442}, 'rouge-2': {'r': 0.4, 'p': 0.2545454545454545, 'f': 0.3111111063580247}, 'rouge-l': {'r': 0.6764705882352942, 'p': 0.4791666666666667, 'f': 0.5609756049018442}}]\n"
     ]
    }
   ],
   "source": [
    "from rouge import Rouge\n",
    "\n",
    "# Define the generated summary and reference summary\n",
    "\n",
    "generated_summary_bart = '''Rahul Kumar, 17, climbed into the lions' enclosure at a zoo in Ahmedabad. He ran towards the animals shouting: 'Today I kill a lion or a lion kills me!' Fortunately, Mr Kumar fell into a moat before reaching the animals. He has been cautioned and will be sent for psychiatric evaluation. Last year a 20-year-old man was mauled'''\n",
    "reference_summary = '''Drunk teenage boy climbed into lion enclosure at zoo in west India .\\nRahul Kumar, 17, ran towards animals shouting 'Today I kill a lion!'\\nFortunately he fell into a moat before reaching lions and was rescued .'''\n",
    "# Initialize Rouge scorer\n",
    "rouge_scorer = Rouge()\n",
    "\n",
    "# Calculate ROUGE scores\n",
    "rouge_scores = rouge_scorer.get_scores(generated_summary_bart,\n",
    "                                       reference_summary)\n",
    "\n",
    "\n",
    "print(\"ROUGE Scores:\")\n",
    "print(rouge_scores)"
   ]
  },
  {
   "cell_type": "code",
   "execution_count": 58,
   "id": "19b42687",
   "metadata": {
    "scrolled": false
   },
   "outputs": [
    {
     "data": {
      "text/plain": [
       "\"Liverpool target Neto is also wanted by PSG and clubs in Spain as Brendan Rodgers faces stiff competition to land the Fiorentina goalkeeper, according to the Brazilian's agent Stefano Castagna. The Reds were linked with a move for the 25-year-old, whose contract expires in June, earlier in the season when Simon Mignolet was dropped from the side. A January move for Neto never materialised but the former Atletico Paranaense keeper looks certain to leave the Florence-based club in the summer. Neto rushes from his goal as Juan Iturbe bears down on him during Fiorentina's clash with Roma in March . Neto is wanted by a number of top European clubs including Liverpool and PSG, according to his agent . It had been reported that Neto had a verbal agreement to join Serie A champions Juventus at the end of the season but his agent has revealed no decision about his future has been made yet. And Castagna claims Neto will have his pick of top European clubs when the transfer window re-opens in the summer, including Brendan Rodgers' side. 'There are many European clubs interested in Neto, such as for example Liverpool and Paris Saint-Germain,' Stefano Castagna is quoted as saying by Gazzetta TV. Firoentina goalkeeper Neto saves at the feet of Tottenham midfielder Nacer Chadli in the Europa League . 'In Spain too there are clubs at the very top level who are tracking him. Real Madrid? We'll see. 'We have not made a definitive decision, but in any case he will not accept another loan move elsewhere.' Neto, who represented Brazil at the London 2012 Olympics but has not featured for the senior side, was warned against joining a club as a No 2 by national coach Dunga. Neto joined Fiorentina from\\xa0Atletico Paranaense in 2011 and established himself as No1 in the last two seasons.\""
      ]
     },
     "execution_count": 58,
     "metadata": {},
     "output_type": "execute_result"
    }
   ],
   "source": [
    "test.loc[3, 'article']\n"
   ]
  },
  {
   "cell_type": "code",
   "execution_count": 56,
   "id": "1bb86de7",
   "metadata": {},
   "outputs": [
    {
     "data": {
      "text/plain": [
       "'Fiorentina goalkeeper Neto has been linked with Liverpool and Arsenal .\\nNeto joined Firoentina\\xa0from Brazilian outfit Atletico Paranaense in 2011 .\\nHe is also wanted by PSG and Spanish clubs, according to his agent .\\nCLICK HERE for the latest Liverpool news .'"
      ]
     },
     "execution_count": 56,
     "metadata": {},
     "output_type": "execute_result"
    }
   ],
   "source": [
    "test.loc[3, 'highlights']"
   ]
  },
  {
   "cell_type": "markdown",
   "id": "1c47ec36",
   "metadata": {},
   "source": [
    "# Automated Text Summarization Project\n",
    "\n",
    "<h3>Introduction</h3>\n",
    "Text summarization is a challenging task in natural language processing that aims to generate concise and coherent summaries from large pieces of text. In this report, we present an approach using the T5 and BART models for text summarization. We discuss the results obtained from both models and explore their potential applications.\n",
    "\n",
    "<h3>Approach</h3>\n",
    "<b>Data Preparation:</b> We gathered a dataset consisting of news articles with corresponding highlights. The dataset was preprocessed to remove any unnecessary information and ensure the articles were in a suitable format for summarization.\n",
    "\n",
    "<h3>Model</h3>\n",
    "<h3>T5</h3>\n",
    "We utilized the T5 model, specifically the \"Einmalumdiewelt/T5-Base_GNAD\" variant, for text summarization.\n",
    "The T5 tokenizer was used to tokenize the articles and generate input tokens.\n",
    "We implemented the \"t5_summarize\" function to generate summaries using the T5 model with adjustable parameters such as the number of beams and the maximum number of words in the summary.\n",
    "We evaluated the T5 model's performance using the ROUGE scores, which measure the quality of the generated summaries compared to reference summaries.\n",
    "<h3>BART</h3>\n",
    "We employed the BART model, specifically the \"facebook/bart-large-cnn\" variant, for text summarization.\n",
    "The BART tokenizer was used to tokenize the articles and create input tokens.\n",
    "We implemented the \"bart_summarize\" function to generate summaries using the BART model with adjustable parameters.\n",
    "The BART model's performance was also evaluated using ROUGE scores.\n",
    "<h3>Results</h3>\n",
    "Here are the ROUGE scores for both models:\n",
    "\n",
    "For the T5 model:\n",
    "\n",
    "1. ROUGE-1 F1-score: 0.507\n",
    "2. ROUGE-2 F1-score: 0.265\n",
    "3. ROUGE-L F1-score: 0.478\n",
    "\n",
    "For the BART model:\n",
    "\n",
    "1. ROUGE-1 F1-score: 0.5610\n",
    "2. ROUGE-2 F1-score: 0.3111\n",
    "3. ROUGE-L F1-score: 0.5610\n",
    "<h3>Discussion</h3>\n",
    "It's evident that the BART model outperforms the T5 model across all three ROUGE metrics (ROUGE-1, ROUGE-2, and ROUGE-L) in terms of F1-score. Therefore, based on these ROUGE scores, the BART model is the better-performing model for generating summaries in the given context. It has higher precision, recall, and F1-scores for all three ROUGE measures, indicating better overall summary quality.\n",
    "\n",
    "<h3>Applications</h3>\n",
    "The automatic text summarization approach using the T5 and BART models has various potential applications:\n",
    "News Aggregation: Summarizing news articles can help users quickly get an overview of current events without reading entire articles.\n",
    "Document Summarization: Summarizing lengthy documents or research papers can assist researchers and professionals in identifying key information efficiently.\n",
    "Social Media Analysis: Summarizing user-generated content on social media platforms can aid in understanding trends, sentiment analysis, and monitoring discussions.\n",
    "Content Generation: Summarization models can be utilized as part of content generation systems to produce concise summaries of generated text.\n",
    "\n",
    "<h3>Conclusion</h3>\n",
    "In conclusion, based on the performance metrics obtained from comparing two OpenAI language models (T5 and BART) on a text summarization task, the BART model has consistently outperformed the T5 model across all key ROUGE scores (ROUGE-1, ROUGE-2, and ROUGE-L). The BART model achieved higher F1-scores, indicating better precision and recall in generating summaries. Therefore, the recommendation for the best model for the text summarization task is the BART model, as it has demonstrated superior performance in generating high-quality summaries according to the provided metrics.\n"
   ]
  },
  {
   "cell_type": "code",
   "execution_count": null,
   "id": "66453c66",
   "metadata": {},
   "outputs": [],
   "source": []
  }
 ],
 "metadata": {
  "kernelspec": {
   "display_name": "Python 3 (ipykernel)",
   "language": "python",
   "name": "python3"
  },
  "language_info": {
   "codemirror_mode": {
    "name": "ipython",
    "version": 3
   },
   "file_extension": ".py",
   "mimetype": "text/x-python",
   "name": "python",
   "nbconvert_exporter": "python",
   "pygments_lexer": "ipython3",
   "version": "3.9.12"
  }
 },
 "nbformat": 4,
 "nbformat_minor": 5
}
